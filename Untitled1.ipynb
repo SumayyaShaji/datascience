{
  "nbformat": 4,
  "nbformat_minor": 0,
  "metadata": {
    "colab": {
      "name": "Untitled1.ipynb",
      "provenance": [],
      "authorship_tag": "ABX9TyO8L6oqCz3nXxsUTF9vG75X",
      "include_colab_link": true
    },
    "kernelspec": {
      "name": "python3",
      "display_name": "Python 3"
    },
    "language_info": {
      "name": "python"
    }
  },
  "cells": [
    {
      "cell_type": "markdown",
      "metadata": {
        "id": "view-in-github",
        "colab_type": "text"
      },
      "source": [
        "<a href=\"https://colab.research.google.com/github/SumayyaShaji/datascience/blob/main/Untitled1.ipynb\" target=\"_parent\"><img src=\"https://colab.research.google.com/assets/colab-badge.svg\" alt=\"Open In Colab\"/></a>"
      ]
    },
    {
      "cell_type": "code",
      "metadata": {
        "colab": {
          "base_uri": "https://localhost:8080/"
        },
        "id": "-b08wyroXF_S",
        "outputId": "d14456d0-c6f6-4cf7-b9d5-b7185c4af291"
      },
      "source": [
        "num=int(input(\"enter a number:\"))\n",
        "factorial = 1\n",
        "if num<0:\n",
        "  print(\"factorial does not exist for negative number\")\n",
        "elif num == 0:\n",
        "  print(\"the factorial of 0 is 1\")\n",
        "else:\n",
        "  for i in range(1,num+1):\n",
        "     factorial = factorial*i\n",
        "  print(\"the factorial of\",num,\"is\",factorial)"
      ],
      "execution_count": 3,
      "outputs": [
        {
          "output_type": "stream",
          "name": "stdout",
          "text": [
            "enter a number:2\n",
            "the factorial of 2 is 2\n"
          ]
        }
      ]
    }
  ]
}