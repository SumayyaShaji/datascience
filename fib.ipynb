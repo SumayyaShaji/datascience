{
  "nbformat": 4,
  "nbformat_minor": 0,
  "metadata": {
    "colab": {
      "name": "fib.ipynb",
      "provenance": [],
      "authorship_tag": "ABX9TyOniqFTpnaLF2KUZxm/Ox/+",
      "include_colab_link": true
    },
    "kernelspec": {
      "name": "python3",
      "display_name": "Python 3"
    },
    "language_info": {
      "name": "python"
    }
  },
  "cells": [
    {
      "cell_type": "markdown",
      "metadata": {
        "id": "view-in-github",
        "colab_type": "text"
      },
      "source": [
        "<a href=\"https://colab.research.google.com/github/SumayyaShaji/datascience/blob/main/fib.ipynb\" target=\"_parent\"><img src=\"https://colab.research.google.com/assets/colab-badge.svg\" alt=\"Open In Colab\"/></a>"
      ]
    },
    {
      "cell_type": "code",
      "metadata": {
        "colab": {
          "base_uri": "https://localhost:8080/"
        },
        "id": "WWACbYdLZInG",
        "outputId": "0b91f599-5cfa-412b-c9b8-a4700d0a5bcb"
      },
      "source": [
        "nterms=int(input(\"how many terms?\"))\n",
        "n1,n2=0,1\n",
        "count=0\n",
        "if nterms <= 0:\n",
        "     print(\"please enter a positive integer\")\n",
        "elif nterms ==1:\n",
        "     print(\"fibonacci sequence up to\",nterms,\":\")\n",
        "     print(n1)\n",
        "else:\n",
        "   print(\"fibbonacci sequence:\")\n",
        "   while count < nterms:\n",
        "     print(n1)\n",
        "     nth=n1+n2\n",
        "     n1=n2\n",
        "     n2=nth\n",
        "     count += 1"
      ],
      "execution_count": 4,
      "outputs": [
        {
          "output_type": "stream",
          "name": "stdout",
          "text": [
            "how many terms?7\n",
            "fibbonacci sequence:\n",
            "0\n",
            "1\n",
            "1\n",
            "2\n",
            "3\n",
            "5\n",
            "8\n"
          ]
        }
      ]
    }
  ]
}